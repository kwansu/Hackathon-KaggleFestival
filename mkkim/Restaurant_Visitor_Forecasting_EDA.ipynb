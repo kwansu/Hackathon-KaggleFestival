{
  "nbformat": 4,
  "nbformat_minor": 0,
  "metadata": {
    "colab": {
      "name": "Restaurant Visitor Forecasting EDA.ipynb",
      "provenance": [],
      "authorship_tag": "ABX9TyMgbdHXbC2kI0w61qo5k/MT",
      "include_colab_link": true
    },
    "kernelspec": {
      "name": "python3",
      "display_name": "Python 3"
    },
    "language_info": {
      "name": "python"
    }
  },
  "cells": [
    {
      "cell_type": "markdown",
      "metadata": {
        "id": "view-in-github",
        "colab_type": "text"
      },
      "source": [
        "<a href=\"https://colab.research.google.com/github/mkkim007/Hackathon-KaggleFestival/blob/main/Restaurant_Visitor_Forecasting_EDA.ipynb\" target=\"_parent\"><img src=\"https://colab.research.google.com/assets/colab-badge.svg\" alt=\"Open In Colab\"/></a>"
      ]
    },
    {
      "cell_type": "code",
      "metadata": {
        "colab": {
          "base_uri": "https://localhost:8080/"
        },
        "id": "ijCPeRv27rTB",
        "outputId": "b5153b29-b20e-4a65-97d9-6f700101e027"
      },
      "source": [
        "from google.colab import drive\n",
        "drive.mount('/content/gdrive')"
      ],
      "execution_count": 1,
      "outputs": [
        {
          "output_type": "stream",
          "text": [
            "Mounted at /content/gdrive\n"
          ],
          "name": "stdout"
        }
      ]
    },
    {
      "cell_type": "code",
      "metadata": {
        "id": "NekCY9Og8w_c"
      },
      "source": [
        "!cp /content/gdrive/MyDrive/Data/recruit-restaurant-visitor-forecasting.zip /content/"
      ],
      "execution_count": 2,
      "outputs": []
    },
    {
      "cell_type": "code",
      "metadata": {
        "id": "3dupMdEK7fPB"
      },
      "source": [
        "import warnings\n",
        "warnings.filterwarnings(\"ignore\")\n",
        "\n",
        "import time\n",
        "import numpy as np\n",
        "import pandas as pd\n",
        "from dateutil.parser import parse\n",
        "import datetime\n",
        "from datetime import date, timedelta\n",
        "from sklearn.preprocessing import LabelEncoder\n",
        "\n",
        "import missingno as msno\n",
        "\n",
        "from sklearn.ensemble import GradientBoostingRegressor\n",
        "from sklearn.model_selection import KFold, cross_val_score\n",
        "import xgboost as xgb\n",
        "import lightgbm as lgb\n",
        "from scipy.stats import norm #Analysis \n",
        "from scipy import stats #Analysis \n",
        "from sklearn.preprocessing import StandardScaler #Analysis \n",
        "import matplotlib.pyplot as plt\n",
        "import seaborn as sns\n",
        "import gc\n",
        "\n"
      ],
      "execution_count": 35,
      "outputs": []
    },
    {
      "cell_type": "code",
      "metadata": {
        "id": "Ot3WLGq481cQ"
      },
      "source": [
        "!unzip -qq /content/recruit-restaurant-visitor-forecasting.zip"
      ],
      "execution_count": 4,
      "outputs": []
    },
    {
      "cell_type": "markdown",
      "metadata": {
        "id": "eCeSHNCs-Dld"
      },
      "source": [
        "데이터를 나중에 합치기 위해서\n",
        "air의 id든 hpg의 id든 모두 store_id로 통합"
      ]
    },
    {
      "cell_type": "code",
      "metadata": {
        "id": "hVzaMMbVswqQ"
      },
      "source": [
        "data_path = '../content/'\n",
        "air_reserve = pd.read_csv(data_path + 'air_reserve.csv.zip').rename(columns={'air_store_id':'store_id'})\n",
        "hpg_reserve = pd.read_csv(data_path + 'hpg_reserve.csv.zip').rename(columns={'hpg_store_id':'store_id'})\n",
        "air_store = pd.read_csv(data_path + 'air_store_info.csv.zip').rename(columns={'air_store_id':'store_id'})\n",
        "hpg_store = pd.read_csv(data_path + 'hpg_store_info.csv.zip').rename(columns={'hpg_store_id':'store_id'})\n",
        "air_visit = pd.read_csv(data_path + 'air_visit_data.csv.zip').rename(columns={'air_store_id':'store_id'})\n",
        "store_id_map = pd.read_csv(data_path + 'store_id_relation.csv.zip')\n",
        "date_info = pd.read_csv(data_path + 'date_info.csv.zip')\n",
        "submission = pd.read_csv(data_path + 'sample_submission.csv.zip')"
      ],
      "execution_count": 44,
      "outputs": []
    },
    {
      "cell_type": "markdown",
      "metadata": {
        "id": "KDnEKPWXxeOJ"
      },
      "source": [
        "## 1.변수 설명 "
      ]
    },
    {
      "cell_type": "markdown",
      "metadata": {
        "id": "pExQWgc9z_2J"
      },
      "source": [
        "---\n",
        "**air_reserve.csv**\n",
        "\n",
        ": *air* 레스토랑 예약 시스템\n",
        "\n",
        "- `air_store_id` - the restaurant's id in the air system\n",
        "\n",
        "- `visit_datetime` - the time of the reservation\n",
        "\n",
        "- `reserve_datetime` - the time the reservation was made\n",
        "\n",
        "- `reserve_visitors` - the number of visitors for that reservation"
      ]
    },
    {
      "cell_type": "code",
      "metadata": {
        "colab": {
          "base_uri": "https://localhost:8080/",
          "height": 204
        },
        "id": "MpxCOLNntV9v",
        "outputId": "903b0d7d-37b9-4383-ff36-33188817a49e"
      },
      "source": [
        "air_reserve.head()"
      ],
      "execution_count": 45,
      "outputs": [
        {
          "output_type": "execute_result",
          "data": {
            "text/html": [
              "<div>\n",
              "<style scoped>\n",
              "    .dataframe tbody tr th:only-of-type {\n",
              "        vertical-align: middle;\n",
              "    }\n",
              "\n",
              "    .dataframe tbody tr th {\n",
              "        vertical-align: top;\n",
              "    }\n",
              "\n",
              "    .dataframe thead th {\n",
              "        text-align: right;\n",
              "    }\n",
              "</style>\n",
              "<table border=\"1\" class=\"dataframe\">\n",
              "  <thead>\n",
              "    <tr style=\"text-align: right;\">\n",
              "      <th></th>\n",
              "      <th>store_id</th>\n",
              "      <th>visit_datetime</th>\n",
              "      <th>reserve_datetime</th>\n",
              "      <th>reserve_visitors</th>\n",
              "    </tr>\n",
              "  </thead>\n",
              "  <tbody>\n",
              "    <tr>\n",
              "      <th>0</th>\n",
              "      <td>air_877f79706adbfb06</td>\n",
              "      <td>2016-01-01 19:00:00</td>\n",
              "      <td>2016-01-01 16:00:00</td>\n",
              "      <td>1</td>\n",
              "    </tr>\n",
              "    <tr>\n",
              "      <th>1</th>\n",
              "      <td>air_db4b38ebe7a7ceff</td>\n",
              "      <td>2016-01-01 19:00:00</td>\n",
              "      <td>2016-01-01 19:00:00</td>\n",
              "      <td>3</td>\n",
              "    </tr>\n",
              "    <tr>\n",
              "      <th>2</th>\n",
              "      <td>air_db4b38ebe7a7ceff</td>\n",
              "      <td>2016-01-01 19:00:00</td>\n",
              "      <td>2016-01-01 19:00:00</td>\n",
              "      <td>6</td>\n",
              "    </tr>\n",
              "    <tr>\n",
              "      <th>3</th>\n",
              "      <td>air_877f79706adbfb06</td>\n",
              "      <td>2016-01-01 20:00:00</td>\n",
              "      <td>2016-01-01 16:00:00</td>\n",
              "      <td>2</td>\n",
              "    </tr>\n",
              "    <tr>\n",
              "      <th>4</th>\n",
              "      <td>air_db80363d35f10926</td>\n",
              "      <td>2016-01-01 20:00:00</td>\n",
              "      <td>2016-01-01 01:00:00</td>\n",
              "      <td>5</td>\n",
              "    </tr>\n",
              "  </tbody>\n",
              "</table>\n",
              "</div>"
            ],
            "text/plain": [
              "               store_id  ... reserve_visitors\n",
              "0  air_877f79706adbfb06  ...                1\n",
              "1  air_db4b38ebe7a7ceff  ...                3\n",
              "2  air_db4b38ebe7a7ceff  ...                6\n",
              "3  air_877f79706adbfb06  ...                2\n",
              "4  air_db80363d35f10926  ...                5\n",
              "\n",
              "[5 rows x 4 columns]"
            ]
          },
          "metadata": {
            "tags": []
          },
          "execution_count": 45
        }
      ]
    },
    {
      "cell_type": "markdown",
      "metadata": {
        "id": "4snNTKqI1R8H"
      },
      "source": [
        "---\n",
        "**hpg_reserve.csv**\n",
        "\n",
        ": *hpg* 레스토랑 예약 시스템\n",
        "\n",
        "\n",
        "\n",
        "- `hpg_store_id` - the restaurant's id in the hpg system\n",
        "\n",
        "- `visit_datetime` - the time of the reservation\n",
        "\n",
        "- `reserve_datetime` - the time the reservation was made\n",
        "\n",
        "- `reserve_visitors` - the number of visitors for that reservation\n",
        "\n",
        "  "
      ]
    },
    {
      "cell_type": "code",
      "metadata": {
        "colab": {
          "base_uri": "https://localhost:8080/",
          "height": 204
        },
        "id": "CtepUNHM74X0",
        "outputId": "c98ba9f2-e7a2-49ad-b5c7-87b829d1c068"
      },
      "source": [
        "hpg_reserve.head()"
      ],
      "execution_count": 46,
      "outputs": [
        {
          "output_type": "execute_result",
          "data": {
            "text/html": [
              "<div>\n",
              "<style scoped>\n",
              "    .dataframe tbody tr th:only-of-type {\n",
              "        vertical-align: middle;\n",
              "    }\n",
              "\n",
              "    .dataframe tbody tr th {\n",
              "        vertical-align: top;\n",
              "    }\n",
              "\n",
              "    .dataframe thead th {\n",
              "        text-align: right;\n",
              "    }\n",
              "</style>\n",
              "<table border=\"1\" class=\"dataframe\">\n",
              "  <thead>\n",
              "    <tr style=\"text-align: right;\">\n",
              "      <th></th>\n",
              "      <th>store_id</th>\n",
              "      <th>visit_datetime</th>\n",
              "      <th>reserve_datetime</th>\n",
              "      <th>reserve_visitors</th>\n",
              "    </tr>\n",
              "  </thead>\n",
              "  <tbody>\n",
              "    <tr>\n",
              "      <th>0</th>\n",
              "      <td>hpg_c63f6f42e088e50f</td>\n",
              "      <td>2016-01-01 11:00:00</td>\n",
              "      <td>2016-01-01 09:00:00</td>\n",
              "      <td>1</td>\n",
              "    </tr>\n",
              "    <tr>\n",
              "      <th>1</th>\n",
              "      <td>hpg_dac72789163a3f47</td>\n",
              "      <td>2016-01-01 13:00:00</td>\n",
              "      <td>2016-01-01 06:00:00</td>\n",
              "      <td>3</td>\n",
              "    </tr>\n",
              "    <tr>\n",
              "      <th>2</th>\n",
              "      <td>hpg_c8e24dcf51ca1eb5</td>\n",
              "      <td>2016-01-01 16:00:00</td>\n",
              "      <td>2016-01-01 14:00:00</td>\n",
              "      <td>2</td>\n",
              "    </tr>\n",
              "    <tr>\n",
              "      <th>3</th>\n",
              "      <td>hpg_24bb207e5fd49d4a</td>\n",
              "      <td>2016-01-01 17:00:00</td>\n",
              "      <td>2016-01-01 11:00:00</td>\n",
              "      <td>5</td>\n",
              "    </tr>\n",
              "    <tr>\n",
              "      <th>4</th>\n",
              "      <td>hpg_25291c542ebb3bc2</td>\n",
              "      <td>2016-01-01 17:00:00</td>\n",
              "      <td>2016-01-01 03:00:00</td>\n",
              "      <td>13</td>\n",
              "    </tr>\n",
              "  </tbody>\n",
              "</table>\n",
              "</div>"
            ],
            "text/plain": [
              "               store_id  ... reserve_visitors\n",
              "0  hpg_c63f6f42e088e50f  ...                1\n",
              "1  hpg_dac72789163a3f47  ...                3\n",
              "2  hpg_c8e24dcf51ca1eb5  ...                2\n",
              "3  hpg_24bb207e5fd49d4a  ...                5\n",
              "4  hpg_25291c542ebb3bc2  ...               13\n",
              "\n",
              "[5 rows x 4 columns]"
            ]
          },
          "metadata": {
            "tags": []
          },
          "execution_count": 46
        }
      ]
    },
    {
      "cell_type": "markdown",
      "metadata": {
        "id": "uCLNR26x1VvS"
      },
      "source": [
        "---\n",
        "**air_store_info.csv**\n",
        "\n",
        ": *air*  레스토랑 세부 정보\n",
        "\n",
        "- `air_store_id`\n",
        "\n",
        "- `air_genre_name`\n",
        "\n",
        "- `air_area_name`\n",
        "\n",
        "- `latitude`\n",
        "\n",
        "- `longitude`\n",
        "\n"
      ]
    },
    {
      "cell_type": "code",
      "metadata": {
        "colab": {
          "base_uri": "https://localhost:8080/",
          "height": 289
        },
        "id": "YU90AhSL78Ib",
        "outputId": "e8ebdc62-e9e8-4f06-d7bc-e0d76c7ee53b"
      },
      "source": [
        "air_store.head()"
      ],
      "execution_count": 47,
      "outputs": [
        {
          "output_type": "execute_result",
          "data": {
            "text/html": [
              "<div>\n",
              "<style scoped>\n",
              "    .dataframe tbody tr th:only-of-type {\n",
              "        vertical-align: middle;\n",
              "    }\n",
              "\n",
              "    .dataframe tbody tr th {\n",
              "        vertical-align: top;\n",
              "    }\n",
              "\n",
              "    .dataframe thead th {\n",
              "        text-align: right;\n",
              "    }\n",
              "</style>\n",
              "<table border=\"1\" class=\"dataframe\">\n",
              "  <thead>\n",
              "    <tr style=\"text-align: right;\">\n",
              "      <th></th>\n",
              "      <th>store_id</th>\n",
              "      <th>air_genre_name</th>\n",
              "      <th>air_area_name</th>\n",
              "      <th>latitude</th>\n",
              "      <th>longitude</th>\n",
              "    </tr>\n",
              "  </thead>\n",
              "  <tbody>\n",
              "    <tr>\n",
              "      <th>0</th>\n",
              "      <td>air_0f0cdeee6c9bf3d7</td>\n",
              "      <td>Italian/French</td>\n",
              "      <td>Hyōgo-ken Kōbe-shi Kumoidōri</td>\n",
              "      <td>34.695124</td>\n",
              "      <td>135.197852</td>\n",
              "    </tr>\n",
              "    <tr>\n",
              "      <th>1</th>\n",
              "      <td>air_7cc17a324ae5c7dc</td>\n",
              "      <td>Italian/French</td>\n",
              "      <td>Hyōgo-ken Kōbe-shi Kumoidōri</td>\n",
              "      <td>34.695124</td>\n",
              "      <td>135.197852</td>\n",
              "    </tr>\n",
              "    <tr>\n",
              "      <th>2</th>\n",
              "      <td>air_fee8dcf4d619598e</td>\n",
              "      <td>Italian/French</td>\n",
              "      <td>Hyōgo-ken Kōbe-shi Kumoidōri</td>\n",
              "      <td>34.695124</td>\n",
              "      <td>135.197852</td>\n",
              "    </tr>\n",
              "    <tr>\n",
              "      <th>3</th>\n",
              "      <td>air_a17f0778617c76e2</td>\n",
              "      <td>Italian/French</td>\n",
              "      <td>Hyōgo-ken Kōbe-shi Kumoidōri</td>\n",
              "      <td>34.695124</td>\n",
              "      <td>135.197852</td>\n",
              "    </tr>\n",
              "    <tr>\n",
              "      <th>4</th>\n",
              "      <td>air_83db5aff8f50478e</td>\n",
              "      <td>Italian/French</td>\n",
              "      <td>Tōkyō-to Minato-ku Shibakōen</td>\n",
              "      <td>35.658068</td>\n",
              "      <td>139.751599</td>\n",
              "    </tr>\n",
              "  </tbody>\n",
              "</table>\n",
              "</div>"
            ],
            "text/plain": [
              "               store_id  air_genre_name  ...   latitude   longitude\n",
              "0  air_0f0cdeee6c9bf3d7  Italian/French  ...  34.695124  135.197852\n",
              "1  air_7cc17a324ae5c7dc  Italian/French  ...  34.695124  135.197852\n",
              "2  air_fee8dcf4d619598e  Italian/French  ...  34.695124  135.197852\n",
              "3  air_a17f0778617c76e2  Italian/French  ...  34.695124  135.197852\n",
              "4  air_83db5aff8f50478e  Italian/French  ...  35.658068  139.751599\n",
              "\n",
              "[5 rows x 5 columns]"
            ]
          },
          "metadata": {
            "tags": []
          },
          "execution_count": 47
        }
      ]
    },
    {
      "cell_type": "markdown",
      "metadata": {
        "id": "63l76OFZ1ceX"
      },
      "source": [
        "---\n",
        "**hpg_store_info.csv**\n",
        "\n",
        ": *hpg* 레스토랑 세부 정보\n",
        "\n",
        "\n",
        "\n",
        "- `hpg_store_id`\n",
        "\n",
        "- `hpg_genre_name`\n",
        "\n",
        "- `hpg_area_name`\n",
        "\n",
        "- `latitude`\n",
        "\n",
        "- `longitude`"
      ]
    },
    {
      "cell_type": "code",
      "metadata": {
        "colab": {
          "base_uri": "https://localhost:8080/",
          "height": 289
        },
        "id": "4C7VY0tN8T38",
        "outputId": "c3190eb3-b0f4-4fa0-f376-6787abab8315"
      },
      "source": [
        "hpg_store.head()"
      ],
      "execution_count": 48,
      "outputs": [
        {
          "output_type": "execute_result",
          "data": {
            "text/html": [
              "<div>\n",
              "<style scoped>\n",
              "    .dataframe tbody tr th:only-of-type {\n",
              "        vertical-align: middle;\n",
              "    }\n",
              "\n",
              "    .dataframe tbody tr th {\n",
              "        vertical-align: top;\n",
              "    }\n",
              "\n",
              "    .dataframe thead th {\n",
              "        text-align: right;\n",
              "    }\n",
              "</style>\n",
              "<table border=\"1\" class=\"dataframe\">\n",
              "  <thead>\n",
              "    <tr style=\"text-align: right;\">\n",
              "      <th></th>\n",
              "      <th>store_id</th>\n",
              "      <th>hpg_genre_name</th>\n",
              "      <th>hpg_area_name</th>\n",
              "      <th>latitude</th>\n",
              "      <th>longitude</th>\n",
              "    </tr>\n",
              "  </thead>\n",
              "  <tbody>\n",
              "    <tr>\n",
              "      <th>0</th>\n",
              "      <td>hpg_6622b62385aec8bf</td>\n",
              "      <td>Japanese style</td>\n",
              "      <td>Tōkyō-to Setagaya-ku Taishidō</td>\n",
              "      <td>35.643675</td>\n",
              "      <td>139.668221</td>\n",
              "    </tr>\n",
              "    <tr>\n",
              "      <th>1</th>\n",
              "      <td>hpg_e9e068dd49c5fa00</td>\n",
              "      <td>Japanese style</td>\n",
              "      <td>Tōkyō-to Setagaya-ku Taishidō</td>\n",
              "      <td>35.643675</td>\n",
              "      <td>139.668221</td>\n",
              "    </tr>\n",
              "    <tr>\n",
              "      <th>2</th>\n",
              "      <td>hpg_2976f7acb4b3a3bc</td>\n",
              "      <td>Japanese style</td>\n",
              "      <td>Tōkyō-to Setagaya-ku Taishidō</td>\n",
              "      <td>35.643675</td>\n",
              "      <td>139.668221</td>\n",
              "    </tr>\n",
              "    <tr>\n",
              "      <th>3</th>\n",
              "      <td>hpg_e51a522e098f024c</td>\n",
              "      <td>Japanese style</td>\n",
              "      <td>Tōkyō-to Setagaya-ku Taishidō</td>\n",
              "      <td>35.643675</td>\n",
              "      <td>139.668221</td>\n",
              "    </tr>\n",
              "    <tr>\n",
              "      <th>4</th>\n",
              "      <td>hpg_e3d0e1519894f275</td>\n",
              "      <td>Japanese style</td>\n",
              "      <td>Tōkyō-to Setagaya-ku Taishidō</td>\n",
              "      <td>35.643675</td>\n",
              "      <td>139.668221</td>\n",
              "    </tr>\n",
              "  </tbody>\n",
              "</table>\n",
              "</div>"
            ],
            "text/plain": [
              "               store_id  hpg_genre_name  ...   latitude   longitude\n",
              "0  hpg_6622b62385aec8bf  Japanese style  ...  35.643675  139.668221\n",
              "1  hpg_e9e068dd49c5fa00  Japanese style  ...  35.643675  139.668221\n",
              "2  hpg_2976f7acb4b3a3bc  Japanese style  ...  35.643675  139.668221\n",
              "3  hpg_e51a522e098f024c  Japanese style  ...  35.643675  139.668221\n",
              "4  hpg_e3d0e1519894f275  Japanese style  ...  35.643675  139.668221\n",
              "\n",
              "[5 rows x 5 columns]"
            ]
          },
          "metadata": {
            "tags": []
          },
          "execution_count": 48
        }
      ]
    },
    {
      "cell_type": "markdown",
      "metadata": {
        "id": "7s19n3ez1fHH"
      },
      "source": [
        "---\n",
        "**store_id_relation.csv**\n",
        "\n",
        ":  *air* & *hpg* id 관계\n",
        "\n",
        "\n",
        "\n",
        "- `hpg_store_id`\n",
        "\n",
        "- `air_store_id`"
      ]
    },
    {
      "cell_type": "code",
      "metadata": {
        "colab": {
          "base_uri": "https://localhost:8080/",
          "height": 204
        },
        "id": "hM4dUCcY8ZBG",
        "outputId": "4cc9652c-7a39-4edb-e15a-d682f1c65444"
      },
      "source": [
        "store_id_map.head()"
      ],
      "execution_count": 49,
      "outputs": [
        {
          "output_type": "execute_result",
          "data": {
            "text/html": [
              "<div>\n",
              "<style scoped>\n",
              "    .dataframe tbody tr th:only-of-type {\n",
              "        vertical-align: middle;\n",
              "    }\n",
              "\n",
              "    .dataframe tbody tr th {\n",
              "        vertical-align: top;\n",
              "    }\n",
              "\n",
              "    .dataframe thead th {\n",
              "        text-align: right;\n",
              "    }\n",
              "</style>\n",
              "<table border=\"1\" class=\"dataframe\">\n",
              "  <thead>\n",
              "    <tr style=\"text-align: right;\">\n",
              "      <th></th>\n",
              "      <th>air_store_id</th>\n",
              "      <th>hpg_store_id</th>\n",
              "    </tr>\n",
              "  </thead>\n",
              "  <tbody>\n",
              "    <tr>\n",
              "      <th>0</th>\n",
              "      <td>air_63b13c56b7201bd9</td>\n",
              "      <td>hpg_4bc649e72e2a239a</td>\n",
              "    </tr>\n",
              "    <tr>\n",
              "      <th>1</th>\n",
              "      <td>air_a24bf50c3e90d583</td>\n",
              "      <td>hpg_c34b496d0305a809</td>\n",
              "    </tr>\n",
              "    <tr>\n",
              "      <th>2</th>\n",
              "      <td>air_c7f78b4f3cba33ff</td>\n",
              "      <td>hpg_cd8ae0d9bbd58ff9</td>\n",
              "    </tr>\n",
              "    <tr>\n",
              "      <th>3</th>\n",
              "      <td>air_947eb2cae4f3e8f2</td>\n",
              "      <td>hpg_de24ea49dc25d6b8</td>\n",
              "    </tr>\n",
              "    <tr>\n",
              "      <th>4</th>\n",
              "      <td>air_965b2e0cf4119003</td>\n",
              "      <td>hpg_653238a84804d8e7</td>\n",
              "    </tr>\n",
              "  </tbody>\n",
              "</table>\n",
              "</div>"
            ],
            "text/plain": [
              "           air_store_id          hpg_store_id\n",
              "0  air_63b13c56b7201bd9  hpg_4bc649e72e2a239a\n",
              "1  air_a24bf50c3e90d583  hpg_c34b496d0305a809\n",
              "2  air_c7f78b4f3cba33ff  hpg_cd8ae0d9bbd58ff9\n",
              "3  air_947eb2cae4f3e8f2  hpg_de24ea49dc25d6b8\n",
              "4  air_965b2e0cf4119003  hpg_653238a84804d8e7"
            ]
          },
          "metadata": {
            "tags": []
          },
          "execution_count": 49
        }
      ]
    },
    {
      "cell_type": "markdown",
      "metadata": {
        "id": "vfrpvEVu_CD-"
      },
      "source": [
        "나중에 hpg id를 air id 로 바꿔줄때 편하게 하기 위해서??"
      ]
    },
    {
      "cell_type": "code",
      "metadata": {
        "colab": {
          "base_uri": "https://localhost:8080/",
          "height": 450
        },
        "id": "jUfiS2Sc-dkn",
        "outputId": "5fbe3207-bd58-4533-cc8c-f4ed2f16f09e"
      },
      "source": [
        "store_id_map.set_index('hpg_store_id',drop=False)"
      ],
      "execution_count": 50,
      "outputs": [
        {
          "output_type": "execute_result",
          "data": {
            "text/html": [
              "<div>\n",
              "<style scoped>\n",
              "    .dataframe tbody tr th:only-of-type {\n",
              "        vertical-align: middle;\n",
              "    }\n",
              "\n",
              "    .dataframe tbody tr th {\n",
              "        vertical-align: top;\n",
              "    }\n",
              "\n",
              "    .dataframe thead th {\n",
              "        text-align: right;\n",
              "    }\n",
              "</style>\n",
              "<table border=\"1\" class=\"dataframe\">\n",
              "  <thead>\n",
              "    <tr style=\"text-align: right;\">\n",
              "      <th></th>\n",
              "      <th>air_store_id</th>\n",
              "      <th>hpg_store_id</th>\n",
              "    </tr>\n",
              "    <tr>\n",
              "      <th>hpg_store_id</th>\n",
              "      <th></th>\n",
              "      <th></th>\n",
              "    </tr>\n",
              "  </thead>\n",
              "  <tbody>\n",
              "    <tr>\n",
              "      <th>hpg_4bc649e72e2a239a</th>\n",
              "      <td>air_63b13c56b7201bd9</td>\n",
              "      <td>hpg_4bc649e72e2a239a</td>\n",
              "    </tr>\n",
              "    <tr>\n",
              "      <th>hpg_c34b496d0305a809</th>\n",
              "      <td>air_a24bf50c3e90d583</td>\n",
              "      <td>hpg_c34b496d0305a809</td>\n",
              "    </tr>\n",
              "    <tr>\n",
              "      <th>hpg_cd8ae0d9bbd58ff9</th>\n",
              "      <td>air_c7f78b4f3cba33ff</td>\n",
              "      <td>hpg_cd8ae0d9bbd58ff9</td>\n",
              "    </tr>\n",
              "    <tr>\n",
              "      <th>hpg_de24ea49dc25d6b8</th>\n",
              "      <td>air_947eb2cae4f3e8f2</td>\n",
              "      <td>hpg_de24ea49dc25d6b8</td>\n",
              "    </tr>\n",
              "    <tr>\n",
              "      <th>hpg_653238a84804d8e7</th>\n",
              "      <td>air_965b2e0cf4119003</td>\n",
              "      <td>hpg_653238a84804d8e7</td>\n",
              "    </tr>\n",
              "    <tr>\n",
              "      <th>...</th>\n",
              "      <td>...</td>\n",
              "      <td>...</td>\n",
              "    </tr>\n",
              "    <tr>\n",
              "      <th>hpg_0cc0abae3a8b52de</th>\n",
              "      <td>air_b8925441167c3152</td>\n",
              "      <td>hpg_0cc0abae3a8b52de</td>\n",
              "    </tr>\n",
              "    <tr>\n",
              "      <th>hpg_098e4dd30e54fee6</th>\n",
              "      <td>air_f8233ad00755c35c</td>\n",
              "      <td>hpg_098e4dd30e54fee6</td>\n",
              "    </tr>\n",
              "    <tr>\n",
              "      <th>hpg_1004356dc8ab69ec</th>\n",
              "      <td>air_6607fe3671242ce3</td>\n",
              "      <td>hpg_1004356dc8ab69ec</td>\n",
              "    </tr>\n",
              "    <tr>\n",
              "      <th>hpg_df22bf146d2c7e19</th>\n",
              "      <td>air_ccd19a5bc5573ae5</td>\n",
              "      <td>hpg_df22bf146d2c7e19</td>\n",
              "    </tr>\n",
              "    <tr>\n",
              "      <th>hpg_23c5945dc1a72454</th>\n",
              "      <td>air_465bddfed3353b23</td>\n",
              "      <td>hpg_23c5945dc1a72454</td>\n",
              "    </tr>\n",
              "  </tbody>\n",
              "</table>\n",
              "<p>150 rows × 2 columns</p>\n",
              "</div>"
            ],
            "text/plain": [
              "                              air_store_id          hpg_store_id\n",
              "hpg_store_id                                                    \n",
              "hpg_4bc649e72e2a239a  air_63b13c56b7201bd9  hpg_4bc649e72e2a239a\n",
              "hpg_c34b496d0305a809  air_a24bf50c3e90d583  hpg_c34b496d0305a809\n",
              "hpg_cd8ae0d9bbd58ff9  air_c7f78b4f3cba33ff  hpg_cd8ae0d9bbd58ff9\n",
              "hpg_de24ea49dc25d6b8  air_947eb2cae4f3e8f2  hpg_de24ea49dc25d6b8\n",
              "hpg_653238a84804d8e7  air_965b2e0cf4119003  hpg_653238a84804d8e7\n",
              "...                                    ...                   ...\n",
              "hpg_0cc0abae3a8b52de  air_b8925441167c3152  hpg_0cc0abae3a8b52de\n",
              "hpg_098e4dd30e54fee6  air_f8233ad00755c35c  hpg_098e4dd30e54fee6\n",
              "hpg_1004356dc8ab69ec  air_6607fe3671242ce3  hpg_1004356dc8ab69ec\n",
              "hpg_df22bf146d2c7e19  air_ccd19a5bc5573ae5  hpg_df22bf146d2c7e19\n",
              "hpg_23c5945dc1a72454  air_465bddfed3353b23  hpg_23c5945dc1a72454\n",
              "\n",
              "[150 rows x 2 columns]"
            ]
          },
          "metadata": {
            "tags": []
          },
          "execution_count": 50
        }
      ]
    },
    {
      "cell_type": "markdown",
      "metadata": {
        "id": "BQ7znMex1q3l"
      },
      "source": [
        "---\n",
        "**air_visit_data.csv**\n",
        "\n",
        ": air restaurants의 과거 방문 data.\n",
        "\n",
        "- `air_store_id`\n",
        "\n",
        "- `visit_date - the date`\n",
        "\n",
        "- `visitors` - the number of visitors to the restaurant on the date -> 목적변수(y)"
      ]
    },
    {
      "cell_type": "code",
      "metadata": {
        "colab": {
          "base_uri": "https://localhost:8080/",
          "height": 204
        },
        "id": "wnNdVlDbyeHM",
        "outputId": "21b2b6d3-0c4f-4b22-a939-162e46194bb9"
      },
      "source": [
        "air_visit.head()"
      ],
      "execution_count": 51,
      "outputs": [
        {
          "output_type": "execute_result",
          "data": {
            "text/html": [
              "<div>\n",
              "<style scoped>\n",
              "    .dataframe tbody tr th:only-of-type {\n",
              "        vertical-align: middle;\n",
              "    }\n",
              "\n",
              "    .dataframe tbody tr th {\n",
              "        vertical-align: top;\n",
              "    }\n",
              "\n",
              "    .dataframe thead th {\n",
              "        text-align: right;\n",
              "    }\n",
              "</style>\n",
              "<table border=\"1\" class=\"dataframe\">\n",
              "  <thead>\n",
              "    <tr style=\"text-align: right;\">\n",
              "      <th></th>\n",
              "      <th>store_id</th>\n",
              "      <th>visit_date</th>\n",
              "      <th>visitors</th>\n",
              "    </tr>\n",
              "  </thead>\n",
              "  <tbody>\n",
              "    <tr>\n",
              "      <th>0</th>\n",
              "      <td>air_ba937bf13d40fb24</td>\n",
              "      <td>2016-01-13</td>\n",
              "      <td>25</td>\n",
              "    </tr>\n",
              "    <tr>\n",
              "      <th>1</th>\n",
              "      <td>air_ba937bf13d40fb24</td>\n",
              "      <td>2016-01-14</td>\n",
              "      <td>32</td>\n",
              "    </tr>\n",
              "    <tr>\n",
              "      <th>2</th>\n",
              "      <td>air_ba937bf13d40fb24</td>\n",
              "      <td>2016-01-15</td>\n",
              "      <td>29</td>\n",
              "    </tr>\n",
              "    <tr>\n",
              "      <th>3</th>\n",
              "      <td>air_ba937bf13d40fb24</td>\n",
              "      <td>2016-01-16</td>\n",
              "      <td>22</td>\n",
              "    </tr>\n",
              "    <tr>\n",
              "      <th>4</th>\n",
              "      <td>air_ba937bf13d40fb24</td>\n",
              "      <td>2016-01-18</td>\n",
              "      <td>6</td>\n",
              "    </tr>\n",
              "  </tbody>\n",
              "</table>\n",
              "</div>"
            ],
            "text/plain": [
              "               store_id  visit_date  visitors\n",
              "0  air_ba937bf13d40fb24  2016-01-13        25\n",
              "1  air_ba937bf13d40fb24  2016-01-14        32\n",
              "2  air_ba937bf13d40fb24  2016-01-15        29\n",
              "3  air_ba937bf13d40fb24  2016-01-16        22\n",
              "4  air_ba937bf13d40fb24  2016-01-18         6"
            ]
          },
          "metadata": {
            "tags": []
          },
          "execution_count": 51
        }
      ]
    },
    {
      "cell_type": "markdown",
      "metadata": {
        "id": "mUyzgiP-1vou"
      },
      "source": [
        "---\n",
        "**sample_submission.csv**\n",
        "\n",
        ":  *test* set으로 사용.\n",
        "\n",
        "- `id` - the id is formed by concatenating the air_store_id and visit_date with an underscore\n",
        "\n",
        "- `visitors`- the number of visitors forecasted for the store and date combination"
      ]
    },
    {
      "cell_type": "code",
      "metadata": {
        "colab": {
          "base_uri": "https://localhost:8080/",
          "height": 204
        },
        "id": "2be1XPy9gZ9P",
        "outputId": "c7379749-1aff-4aa1-bca8-46bbc4354b2b"
      },
      "source": [
        "submission.head()"
      ],
      "execution_count": 54,
      "outputs": [
        {
          "output_type": "execute_result",
          "data": {
            "text/html": [
              "<div>\n",
              "<style scoped>\n",
              "    .dataframe tbody tr th:only-of-type {\n",
              "        vertical-align: middle;\n",
              "    }\n",
              "\n",
              "    .dataframe tbody tr th {\n",
              "        vertical-align: top;\n",
              "    }\n",
              "\n",
              "    .dataframe thead th {\n",
              "        text-align: right;\n",
              "    }\n",
              "</style>\n",
              "<table border=\"1\" class=\"dataframe\">\n",
              "  <thead>\n",
              "    <tr style=\"text-align: right;\">\n",
              "      <th></th>\n",
              "      <th>id</th>\n",
              "      <th>visitors</th>\n",
              "    </tr>\n",
              "  </thead>\n",
              "  <tbody>\n",
              "    <tr>\n",
              "      <th>0</th>\n",
              "      <td>air_00a91d42b08b08d9_2017-04-23</td>\n",
              "      <td>0</td>\n",
              "    </tr>\n",
              "    <tr>\n",
              "      <th>1</th>\n",
              "      <td>air_00a91d42b08b08d9_2017-04-24</td>\n",
              "      <td>0</td>\n",
              "    </tr>\n",
              "    <tr>\n",
              "      <th>2</th>\n",
              "      <td>air_00a91d42b08b08d9_2017-04-25</td>\n",
              "      <td>0</td>\n",
              "    </tr>\n",
              "    <tr>\n",
              "      <th>3</th>\n",
              "      <td>air_00a91d42b08b08d9_2017-04-26</td>\n",
              "      <td>0</td>\n",
              "    </tr>\n",
              "    <tr>\n",
              "      <th>4</th>\n",
              "      <td>air_00a91d42b08b08d9_2017-04-27</td>\n",
              "      <td>0</td>\n",
              "    </tr>\n",
              "  </tbody>\n",
              "</table>\n",
              "</div>"
            ],
            "text/plain": [
              "                                id  visitors\n",
              "0  air_00a91d42b08b08d9_2017-04-23         0\n",
              "1  air_00a91d42b08b08d9_2017-04-24         0\n",
              "2  air_00a91d42b08b08d9_2017-04-25         0\n",
              "3  air_00a91d42b08b08d9_2017-04-26         0\n",
              "4  air_00a91d42b08b08d9_2017-04-27         0"
            ]
          },
          "metadata": {
            "tags": []
          },
          "execution_count": 54
        }
      ]
    },
    {
      "cell_type": "markdown",
      "metadata": {
        "id": "YgGJYOLOtqG3"
      },
      "source": [
        "\n",
        "---\n",
        "**date_info.csv**\n",
        "\n",
        ": 일본 공휴일 정보\n",
        "\n",
        "- `calendar_date`\n",
        "\n",
        "- `day_of_week`\n",
        "\n",
        "- `holiday_flg` - is the day a holiday in Japan"
      ]
    },
    {
      "cell_type": "code",
      "metadata": {
        "colab": {
          "base_uri": "https://localhost:8080/",
          "height": 204
        },
        "id": "u74GJQ4e8mti",
        "outputId": "fd9048af-df37-4d14-a077-bd71398d3ecf"
      },
      "source": [
        "date_info.head()"
      ],
      "execution_count": 55,
      "outputs": [
        {
          "output_type": "execute_result",
          "data": {
            "text/html": [
              "<div>\n",
              "<style scoped>\n",
              "    .dataframe tbody tr th:only-of-type {\n",
              "        vertical-align: middle;\n",
              "    }\n",
              "\n",
              "    .dataframe tbody tr th {\n",
              "        vertical-align: top;\n",
              "    }\n",
              "\n",
              "    .dataframe thead th {\n",
              "        text-align: right;\n",
              "    }\n",
              "</style>\n",
              "<table border=\"1\" class=\"dataframe\">\n",
              "  <thead>\n",
              "    <tr style=\"text-align: right;\">\n",
              "      <th></th>\n",
              "      <th>calendar_date</th>\n",
              "      <th>day_of_week</th>\n",
              "      <th>holiday_flg</th>\n",
              "    </tr>\n",
              "  </thead>\n",
              "  <tbody>\n",
              "    <tr>\n",
              "      <th>0</th>\n",
              "      <td>2016-01-01</td>\n",
              "      <td>Friday</td>\n",
              "      <td>1</td>\n",
              "    </tr>\n",
              "    <tr>\n",
              "      <th>1</th>\n",
              "      <td>2016-01-02</td>\n",
              "      <td>Saturday</td>\n",
              "      <td>1</td>\n",
              "    </tr>\n",
              "    <tr>\n",
              "      <th>2</th>\n",
              "      <td>2016-01-03</td>\n",
              "      <td>Sunday</td>\n",
              "      <td>1</td>\n",
              "    </tr>\n",
              "    <tr>\n",
              "      <th>3</th>\n",
              "      <td>2016-01-04</td>\n",
              "      <td>Monday</td>\n",
              "      <td>0</td>\n",
              "    </tr>\n",
              "    <tr>\n",
              "      <th>4</th>\n",
              "      <td>2016-01-05</td>\n",
              "      <td>Tuesday</td>\n",
              "      <td>0</td>\n",
              "    </tr>\n",
              "  </tbody>\n",
              "</table>\n",
              "</div>"
            ],
            "text/plain": [
              "  calendar_date day_of_week  holiday_flg\n",
              "0    2016-01-01      Friday            1\n",
              "1    2016-01-02    Saturday            1\n",
              "2    2016-01-03      Sunday            1\n",
              "3    2016-01-04      Monday            0\n",
              "4    2016-01-05     Tuesday            0"
            ]
          },
          "metadata": {
            "tags": []
          },
          "execution_count": 55
        }
      ]
    },
    {
      "cell_type": "code",
      "metadata": {
        "colab": {
          "base_uri": "https://localhost:8080/",
          "height": 419
        },
        "id": "oKkpXkqy-qwt",
        "outputId": "01cd64c5-820d-4269-8125-53067c8e4be9"
      },
      "source": [
        "date_info.rename(columns={'calendar_date': 'visit_date'}).drop('day_of_week',axis=1)"
      ],
      "execution_count": 56,
      "outputs": [
        {
          "output_type": "execute_result",
          "data": {
            "text/html": [
              "<div>\n",
              "<style scoped>\n",
              "    .dataframe tbody tr th:only-of-type {\n",
              "        vertical-align: middle;\n",
              "    }\n",
              "\n",
              "    .dataframe tbody tr th {\n",
              "        vertical-align: top;\n",
              "    }\n",
              "\n",
              "    .dataframe thead th {\n",
              "        text-align: right;\n",
              "    }\n",
              "</style>\n",
              "<table border=\"1\" class=\"dataframe\">\n",
              "  <thead>\n",
              "    <tr style=\"text-align: right;\">\n",
              "      <th></th>\n",
              "      <th>visit_date</th>\n",
              "      <th>holiday_flg</th>\n",
              "    </tr>\n",
              "  </thead>\n",
              "  <tbody>\n",
              "    <tr>\n",
              "      <th>0</th>\n",
              "      <td>2016-01-01</td>\n",
              "      <td>1</td>\n",
              "    </tr>\n",
              "    <tr>\n",
              "      <th>1</th>\n",
              "      <td>2016-01-02</td>\n",
              "      <td>1</td>\n",
              "    </tr>\n",
              "    <tr>\n",
              "      <th>2</th>\n",
              "      <td>2016-01-03</td>\n",
              "      <td>1</td>\n",
              "    </tr>\n",
              "    <tr>\n",
              "      <th>3</th>\n",
              "      <td>2016-01-04</td>\n",
              "      <td>0</td>\n",
              "    </tr>\n",
              "    <tr>\n",
              "      <th>4</th>\n",
              "      <td>2016-01-05</td>\n",
              "      <td>0</td>\n",
              "    </tr>\n",
              "    <tr>\n",
              "      <th>...</th>\n",
              "      <td>...</td>\n",
              "      <td>...</td>\n",
              "    </tr>\n",
              "    <tr>\n",
              "      <th>512</th>\n",
              "      <td>2017-05-27</td>\n",
              "      <td>0</td>\n",
              "    </tr>\n",
              "    <tr>\n",
              "      <th>513</th>\n",
              "      <td>2017-05-28</td>\n",
              "      <td>0</td>\n",
              "    </tr>\n",
              "    <tr>\n",
              "      <th>514</th>\n",
              "      <td>2017-05-29</td>\n",
              "      <td>0</td>\n",
              "    </tr>\n",
              "    <tr>\n",
              "      <th>515</th>\n",
              "      <td>2017-05-30</td>\n",
              "      <td>0</td>\n",
              "    </tr>\n",
              "    <tr>\n",
              "      <th>516</th>\n",
              "      <td>2017-05-31</td>\n",
              "      <td>0</td>\n",
              "    </tr>\n",
              "  </tbody>\n",
              "</table>\n",
              "<p>517 rows × 2 columns</p>\n",
              "</div>"
            ],
            "text/plain": [
              "     visit_date  holiday_flg\n",
              "0    2016-01-01            1\n",
              "1    2016-01-02            1\n",
              "2    2016-01-03            1\n",
              "3    2016-01-04            0\n",
              "4    2016-01-05            0\n",
              "..          ...          ...\n",
              "512  2017-05-27            0\n",
              "513  2017-05-28            0\n",
              "514  2017-05-29            0\n",
              "515  2017-05-30            0\n",
              "516  2017-05-31            0\n",
              "\n",
              "[517 rows x 2 columns]"
            ]
          },
          "metadata": {
            "tags": []
          },
          "execution_count": 56
        }
      ]
    },
    {
      "cell_type": "markdown",
      "metadata": {
        "id": "EvYjDagM2EsF"
      },
      "source": [
        "---\n",
        "[참고](https://www.kaggle.com/maestroyi/restaurant-visitor-forecasting-eda-with-r)"
      ]
    },
    {
      "cell_type": "markdown",
      "metadata": {
        "id": "YQZkh0hF9Pb0"
      },
      "source": [
        "## 2. EDA "
      ]
    },
    {
      "cell_type": "markdown",
      "metadata": {
        "id": "kj1e7OHL9TDZ"
      },
      "source": [
        "### 데이터 합치기"
      ]
    },
    {
      "cell_type": "markdown",
      "metadata": {
        "id": "B16lSjNQ9zaX"
      },
      "source": [
        "`submission` 데이터는 `id`에 `visit_date`와 `store_id` 가 합쳐 져있습니다. "
      ]
    },
    {
      "cell_type": "code",
      "metadata": {
        "colab": {
          "base_uri": "https://localhost:8080/",
          "height": 204
        },
        "id": "EdC4WcnjtN_A",
        "outputId": "0b177b83-1ca1-4ba2-a474-8b4659b7a19a"
      },
      "source": [
        "submission.head()"
      ],
      "execution_count": 15,
      "outputs": [
        {
          "output_type": "execute_result",
          "data": {
            "text/html": [
              "<div>\n",
              "<style scoped>\n",
              "    .dataframe tbody tr th:only-of-type {\n",
              "        vertical-align: middle;\n",
              "    }\n",
              "\n",
              "    .dataframe tbody tr th {\n",
              "        vertical-align: top;\n",
              "    }\n",
              "\n",
              "    .dataframe thead th {\n",
              "        text-align: right;\n",
              "    }\n",
              "</style>\n",
              "<table border=\"1\" class=\"dataframe\">\n",
              "  <thead>\n",
              "    <tr style=\"text-align: right;\">\n",
              "      <th></th>\n",
              "      <th>id</th>\n",
              "      <th>visitors</th>\n",
              "      <th>visit_date</th>\n",
              "      <th>store_id</th>\n",
              "    </tr>\n",
              "  </thead>\n",
              "  <tbody>\n",
              "    <tr>\n",
              "      <th>0</th>\n",
              "      <td>air_00a91d42b08b08d9_2017-04-23</td>\n",
              "      <td>0</td>\n",
              "      <td>2017-04-23</td>\n",
              "      <td>air_00a91d42b08b08d9</td>\n",
              "    </tr>\n",
              "    <tr>\n",
              "      <th>1</th>\n",
              "      <td>air_00a91d42b08b08d9_2017-04-24</td>\n",
              "      <td>0</td>\n",
              "      <td>2017-04-24</td>\n",
              "      <td>air_00a91d42b08b08d9</td>\n",
              "    </tr>\n",
              "    <tr>\n",
              "      <th>2</th>\n",
              "      <td>air_00a91d42b08b08d9_2017-04-25</td>\n",
              "      <td>0</td>\n",
              "      <td>2017-04-25</td>\n",
              "      <td>air_00a91d42b08b08d9</td>\n",
              "    </tr>\n",
              "    <tr>\n",
              "      <th>3</th>\n",
              "      <td>air_00a91d42b08b08d9_2017-04-26</td>\n",
              "      <td>0</td>\n",
              "      <td>2017-04-26</td>\n",
              "      <td>air_00a91d42b08b08d9</td>\n",
              "    </tr>\n",
              "    <tr>\n",
              "      <th>4</th>\n",
              "      <td>air_00a91d42b08b08d9_2017-04-27</td>\n",
              "      <td>0</td>\n",
              "      <td>2017-04-27</td>\n",
              "      <td>air_00a91d42b08b08d9</td>\n",
              "    </tr>\n",
              "  </tbody>\n",
              "</table>\n",
              "</div>"
            ],
            "text/plain": [
              "                                id  visitors  visit_date              store_id\n",
              "0  air_00a91d42b08b08d9_2017-04-23         0  2017-04-23  air_00a91d42b08b08d9\n",
              "1  air_00a91d42b08b08d9_2017-04-24         0  2017-04-24  air_00a91d42b08b08d9\n",
              "2  air_00a91d42b08b08d9_2017-04-25         0  2017-04-25  air_00a91d42b08b08d9\n",
              "3  air_00a91d42b08b08d9_2017-04-26         0  2017-04-26  air_00a91d42b08b08d9\n",
              "4  air_00a91d42b08b08d9_2017-04-27         0  2017-04-27  air_00a91d42b08b08d9"
            ]
          },
          "metadata": {
            "tags": []
          },
          "execution_count": 15
        }
      ]
    },
    {
      "cell_type": "markdown",
      "metadata": {
        "id": "1oZJdMBs_njJ"
      },
      "source": [
        "그러나 `air_visit` 데이터는 `store_id` 와 `visit_date` 로 나누어 져있습니다."
      ]
    },
    {
      "cell_type": "code",
      "metadata": {
        "colab": {
          "base_uri": "https://localhost:8080/",
          "height": 204
        },
        "id": "offJfuiJ_jaF",
        "outputId": "76c122ee-ce0b-40b6-9da1-a991b1d83792"
      },
      "source": [
        "air_visit.head()"
      ],
      "execution_count": 57,
      "outputs": [
        {
          "output_type": "execute_result",
          "data": {
            "text/html": [
              "<div>\n",
              "<style scoped>\n",
              "    .dataframe tbody tr th:only-of-type {\n",
              "        vertical-align: middle;\n",
              "    }\n",
              "\n",
              "    .dataframe tbody tr th {\n",
              "        vertical-align: top;\n",
              "    }\n",
              "\n",
              "    .dataframe thead th {\n",
              "        text-align: right;\n",
              "    }\n",
              "</style>\n",
              "<table border=\"1\" class=\"dataframe\">\n",
              "  <thead>\n",
              "    <tr style=\"text-align: right;\">\n",
              "      <th></th>\n",
              "      <th>store_id</th>\n",
              "      <th>visit_date</th>\n",
              "      <th>visitors</th>\n",
              "      <th>id</th>\n",
              "    </tr>\n",
              "  </thead>\n",
              "  <tbody>\n",
              "    <tr>\n",
              "      <th>0</th>\n",
              "      <td>air_ba937bf13d40fb24</td>\n",
              "      <td>2016-01-13</td>\n",
              "      <td>25</td>\n",
              "      <td>air_ba937bf13d40fb24_2016-01-13</td>\n",
              "    </tr>\n",
              "    <tr>\n",
              "      <th>1</th>\n",
              "      <td>air_ba937bf13d40fb24</td>\n",
              "      <td>2016-01-14</td>\n",
              "      <td>32</td>\n",
              "      <td>air_ba937bf13d40fb24_2016-01-14</td>\n",
              "    </tr>\n",
              "    <tr>\n",
              "      <th>2</th>\n",
              "      <td>air_ba937bf13d40fb24</td>\n",
              "      <td>2016-01-15</td>\n",
              "      <td>29</td>\n",
              "      <td>air_ba937bf13d40fb24_2016-01-15</td>\n",
              "    </tr>\n",
              "    <tr>\n",
              "      <th>3</th>\n",
              "      <td>air_ba937bf13d40fb24</td>\n",
              "      <td>2016-01-16</td>\n",
              "      <td>22</td>\n",
              "      <td>air_ba937bf13d40fb24_2016-01-16</td>\n",
              "    </tr>\n",
              "    <tr>\n",
              "      <th>4</th>\n",
              "      <td>air_ba937bf13d40fb24</td>\n",
              "      <td>2016-01-18</td>\n",
              "      <td>6</td>\n",
              "      <td>air_ba937bf13d40fb24_2016-01-18</td>\n",
              "    </tr>\n",
              "  </tbody>\n",
              "</table>\n",
              "</div>"
            ],
            "text/plain": [
              "               store_id  visit_date  visitors                               id\n",
              "0  air_ba937bf13d40fb24  2016-01-13        25  air_ba937bf13d40fb24_2016-01-13\n",
              "1  air_ba937bf13d40fb24  2016-01-14        32  air_ba937bf13d40fb24_2016-01-14\n",
              "2  air_ba937bf13d40fb24  2016-01-15        29  air_ba937bf13d40fb24_2016-01-15\n",
              "3  air_ba937bf13d40fb24  2016-01-16        22  air_ba937bf13d40fb24_2016-01-16\n",
              "4  air_ba937bf13d40fb24  2016-01-18         6  air_ba937bf13d40fb24_2016-01-18"
            ]
          },
          "metadata": {
            "tags": []
          },
          "execution_count": 57
        }
      ]
    },
    {
      "cell_type": "markdown",
      "metadata": {
        "id": "BQZJ-G7xAHmz"
      },
      "source": [
        "둘을 합치기 위해 submission 에는 store_id와 visit_data를 추가해주고 air_visit에는 id를 추가해줍니다"
      ]
    },
    {
      "cell_type": "code",
      "metadata": {
        "id": "AgSitNejtHaV"
      },
      "source": [
        "submission['visit_date'] = submission['id'].str[-10:]\n",
        "submission['store_id'] = submission['id'].str[:-11]"
      ],
      "execution_count": 14,
      "outputs": []
    },
    {
      "cell_type": "code",
      "metadata": {
        "id": "07Pi0-qF9tFs"
      },
      "source": [
        "air_visit['id'] = air_visit['store_id'] + '_' + air_visit['visit_date']\n",
        "air_visit.head()"
      ],
      "execution_count": null,
      "outputs": []
    },
    {
      "cell_type": "code",
      "metadata": {
        "id": "WfweiNM4yClI"
      },
      "source": [
        "df = air_visit.groupby('visit_date').sum().reset_index()\n",
        "df['visit_month'] = df['visit_date'].str[:7]\n",
        "df1 = df.groupby('visit_month').sum().reset_index()"
      ],
      "execution_count": 26,
      "outputs": []
    },
    {
      "cell_type": "code",
      "metadata": {
        "colab": {
          "base_uri": "https://localhost:8080/",
          "height": 299
        },
        "id": "VcBaljTh4EB2",
        "outputId": "0e2ed511-ef37-40a3-bf20-c6f436cf4c46"
      },
      "source": [
        "fig = plt.figure(figsize=(15,6))\n",
        "ax = fig.add_subplot(1,1,1)\n",
        "ax.plot(df1['visit_month'], df1['visitors'], linestyle = '-')\n",
        "ax.set_ylabel('Visitors', fontsize = 14)\n",
        "ax.set_xlabel('Date', fontsize = 14)\n",
        "date_1 = datetime.datetime(2015,12,1)\n",
        "date_2 = datetime.datetime(2017,6,1)\n",
        "ax.set_xlim('2016-01', '2017-04')\n"
      ],
      "execution_count": 43,
      "outputs": [
        {
          "output_type": "execute_result",
          "data": {
            "text/plain": [
              "(0.0, 15.0)"
            ]
          },
          "metadata": {
            "tags": []
          },
          "execution_count": 43
        },
        {
          "output_type": "display_data",
          "data": {
            "image/png": "[encoded data removed]",
            "text/plain": [
              "<Figure size 1080x432 with 1 Axes>"
            ]
          },
          "metadata": {
            "tags": [],
            "needs_background": "light"
          }
        }
      ]
    },
    {
      "cell_type": "code",
      "metadata": {
        "id": "MTu4XQPu7Tz6"
      },
      "source": [
        ""
      ],
      "execution_count": null,
      "outputs": []
    },
    {
      "cell_type": "markdown",
      "metadata": {
        "id": "4AGXW1b6xyee"
      },
      "source": [
        ""
      ]
    },
    {
      "cell_type": "code",
      "metadata": {
        "colab": {
          "base_uri": "https://localhost:8080/",
          "height": 402
        },
        "id": "7cy88jDDc3_f",
        "outputId": "fb065b14-c764-44fc-e547-827f71d03990"
      },
      "source": [
        "#submission['visit_date'] = submission['id'].str[-10:]\n",
        "#submission['store_id'] = submission['id'].str[:-11]\n",
        "air_reserve['visit_date'] = air_reserve['visit_datetime'].str[:10]\n",
        "air_reserve['reserve_date'] = air_reserve['reserve_datetime'].str[:10]\n",
        "air_reserve['dow'] = pd.to_datetime(air_reserve['visit_date']).dt.dayofweek\n",
        "hpg_reserve['visit_date'] = hpg_reserve['visit_datetime'].str[:10]\n",
        "hpg_reserve['reserve_date'] = hpg_reserve['reserve_datetime'].str[:10]\n",
        "hpg_reserve['dow'] = pd.to_datetime(hpg_reserve['visit_date']).dt.dayofweek\n",
        "air_visit['id'] = air_visit['store_id'] + '_' + air_visit['visit_date']\n",
        "hpg_reserve['store_id'] = hpg_reserve['store_id'].map(store_id_map['air_store_id']).fillna(hpg_reserve['store_id'])\n",
        "hpg_store['store_id'] = hpg_store['store_id'].map(store_id_map['air_store_id']).fillna(hpg_store['store_id'])\n",
        "hpg_store.rename(columns={'hpg_genre_name':'air_genre_name','hpg_area_name':'air_area_name'},inplace=True)\n",
        "data = pd.concat([air_visit, submission]).copy()\n",
        "data['dow'] = pd.to_datetime(data['visit_date']).dt.dayofweek\n",
        "date_info['holiday_flg2'] = pd.to_datetime(date_info['visit_date']).dt.dayofweek\n",
        "date_info['holiday_flg2'] = ((date_info['holiday_flg2']>4) | (date_info['holiday_flg']==1)).astype(int)\n",
        "\n",
        "air_store['air_area_name0'] = air_store['air_area_name'].apply(lambda x: x.split(' ')[0])\n",
        "lbl = LabelEncoder()\n",
        "air_store['air_genre_name'] = lbl.fit_transform(air_store['air_genre_name'])\n",
        "air_store['air_area_name0'] = lbl.fit_transform(air_store['air_area_name0'])\n",
        "\n",
        "data['visitors'] = np.log1p(data['visitors'])\n",
        "data = data.merge(air_store,on='store_id',how='left')\n",
        "data = data.merge(date_info[['visit_date','holiday_flg','holiday_flg2']], on=['visit_date'],how='left')"
      ],
      "execution_count": 8,
      "outputs": [
        {
          "output_type": "stream",
          "text": [
            "<class 'pandas.core.frame.DataFrame'>\n",
            "RangeIndex: 2000320 entries, 0 to 2000319\n",
            "Data columns (total 4 columns):\n",
            " #   Column            Dtype \n",
            "---  ------            ----- \n",
            " 0   hpg_store_id      object\n",
            " 1   visit_datetime    object\n",
            " 2   reserve_datetime  object\n",
            " 3   reserve_visitors  int64 \n",
            "dtypes: int64(1), object(3)\n",
            "memory usage: 61.0+ MB\n"
          ],
          "name": "stdout"
        },
        {
          "output_type": "execute_result",
          "data": {
            "text/html": [
              "<div>\n",
              "<style scoped>\n",
              "    .dataframe tbody tr th:only-of-type {\n",
              "        vertical-align: middle;\n",
              "    }\n",
              "\n",
              "    .dataframe tbody tr th {\n",
              "        vertical-align: top;\n",
              "    }\n",
              "\n",
              "    .dataframe thead th {\n",
              "        text-align: right;\n",
              "    }\n",
              "</style>\n",
              "<table border=\"1\" class=\"dataframe\">\n",
              "  <thead>\n",
              "    <tr style=\"text-align: right;\">\n",
              "      <th></th>\n",
              "      <th>hpg_store_id</th>\n",
              "      <th>visit_datetime</th>\n",
              "      <th>reserve_datetime</th>\n",
              "      <th>reserve_visitors</th>\n",
              "    </tr>\n",
              "  </thead>\n",
              "  <tbody>\n",
              "    <tr>\n",
              "      <th>0</th>\n",
              "      <td>hpg_c63f6f42e088e50f</td>\n",
              "      <td>2016-01-01 11:00:00</td>\n",
              "      <td>2016-01-01 09:00:00</td>\n",
              "      <td>1</td>\n",
              "    </tr>\n",
              "    <tr>\n",
              "      <th>1</th>\n",
              "      <td>hpg_dac72789163a3f47</td>\n",
              "      <td>2016-01-01 13:00:00</td>\n",
              "      <td>2016-01-01 06:00:00</td>\n",
              "      <td>3</td>\n",
              "    </tr>\n",
              "    <tr>\n",
              "      <th>2</th>\n",
              "      <td>hpg_c8e24dcf51ca1eb5</td>\n",
              "      <td>2016-01-01 16:00:00</td>\n",
              "      <td>2016-01-01 14:00:00</td>\n",
              "      <td>2</td>\n",
              "    </tr>\n",
              "    <tr>\n",
              "      <th>3</th>\n",
              "      <td>hpg_24bb207e5fd49d4a</td>\n",
              "      <td>2016-01-01 17:00:00</td>\n",
              "      <td>2016-01-01 11:00:00</td>\n",
              "      <td>5</td>\n",
              "    </tr>\n",
              "    <tr>\n",
              "      <th>4</th>\n",
              "      <td>hpg_25291c542ebb3bc2</td>\n",
              "      <td>2016-01-01 17:00:00</td>\n",
              "      <td>2016-01-01 03:00:00</td>\n",
              "      <td>13</td>\n",
              "    </tr>\n",
              "  </tbody>\n",
              "</table>\n",
              "</div>"
            ],
            "text/plain": [
              "           hpg_store_id  ... reserve_visitors\n",
              "0  hpg_c63f6f42e088e50f  ...                1\n",
              "1  hpg_dac72789163a3f47  ...                3\n",
              "2  hpg_c8e24dcf51ca1eb5  ...                2\n",
              "3  hpg_24bb207e5fd49d4a  ...                5\n",
              "4  hpg_25291c542ebb3bc2  ...               13\n",
              "\n",
              "[5 rows x 4 columns]"
            ]
          },
          "metadata": {
            "tags": []
          },
          "execution_count": 8
        }
      ]
    }
  ]
}
