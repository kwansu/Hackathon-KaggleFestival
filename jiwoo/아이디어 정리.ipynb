{
 "cells": [
  {
   "cell_type": "markdown",
   "id": "legendary-effects",
   "metadata": {},
   "source": [
    "필요한 부분요약"
   ]
  },
  {
   "cell_type": "markdown",
   "id": "external-chorus",
   "metadata": {},
   "source": [
    "골든 위크 +> 포함\n",
    "\n",
    "월요일 다시한번생각\n",
    "\n",
    "위치와 => 음식종류..? => 갯수에 따른 정도를 확인해보는것 좋음\n",
    "\n",
    "노쇼하는사람이많아 => 예약이 상관없을 수 있다. => hpg와 air각각을 비교해 봐봐야겟음\n",
    "\n",
    "장르 / 요일 => 변하는 종목이 있음.\n",
    "\n"
   ]
  },
  {
   "cell_type": "markdown",
   "id": "heated-commodity",
   "metadata": {},
   "source": [
    "그자체\n",
    "\n",
    "id => 고려\n",
    "reserve => 씀\n",
    "hpg_reserve => 고려 => 유동인구  가장나중 \n",
    "위도경도 => 제외\n",
    "지역 => 대분류 / 중분류 생각\n",
    "holiday_flg\n",
    "\n",
    "\n",
    "/\n",
    "\n",
    "\n",
    "파생변수\n",
    "\n",
    "예약자 비율 / 실제 방문자 => 외진곳 번화가 확인가능한지 확인해보자\n"
   ]
  },
  {
   "cell_type": "markdown",
   "id": "cardiac-singles",
   "metadata": {},
   "source": [
    "1. 이미 골든 week이 holiday fig으로 나타내져 있는가?"
   ]
  },
  {
   "cell_type": "markdown",
   "id": "nuclear-produce",
   "metadata": {},
   "source": [
    "노쇼하는사람이많아 => 예약이 상관없을 수 있다. => hpg와 air각각을 비교해 봐봐야겟음"
   ]
  },
  {
   "cell_type": "markdown",
   "id": "large-boating",
   "metadata": {},
   "source": [
    "노쇼 => 날씨, 장르 관련"
   ]
  },
  {
   "cell_type": "code",
   "execution_count": null,
   "id": "regulation-astronomy",
   "metadata": {},
   "outputs": [],
   "source": []
  }
 ],
 "metadata": {
  "kernelspec": {
   "display_name": "Python 3",
   "language": "python",
   "name": "python3"
  },
  "language_info": {
   "codemirror_mode": {
    "name": "ipython",
    "version": 3
   },
   "file_extension": ".py",
   "mimetype": "text/x-python",
   "name": "python",
   "nbconvert_exporter": "python",
   "pygments_lexer": "ipython3",
   "version": "3.7.9"
  }
 },
 "nbformat": 4,
 "nbformat_minor": 5
}
